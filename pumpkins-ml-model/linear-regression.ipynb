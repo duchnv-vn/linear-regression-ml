{
 "cells": [
  {
   "cell_type": "code",
   "id": "initial_id",
   "metadata": {
    "collapsed": true,
    "ExecuteTime": {
     "end_time": "2025-05-08T16:59:18.265738Z",
     "start_time": "2025-05-08T16:59:18.238050Z"
    }
   },
   "source": [
    "import pandas as pd\n",
    "import matplotlib.pyplot as plt\n",
    "\n",
    "pumpkins = pd.read_csv('./US-pumpkins.csv')"
   ],
   "outputs": [],
   "execution_count": 27
  },
  {
   "metadata": {
    "ExecuteTime": {
     "end_time": "2025-05-08T16:59:18.286551Z",
     "start_time": "2025-05-08T16:59:18.270737Z"
    }
   },
   "cell_type": "code",
   "source": "pumpkins.isnull().sum()",
   "id": "d1033ff24a040e9f",
   "outputs": [
    {
     "data": {
      "text/plain": [
       "City Name             0\n",
       "Type               1712\n",
       "Package               0\n",
       "Variety               5\n",
       "Sub Variety        1461\n",
       "Grade              1757\n",
       "Date                  0\n",
       "Low Price             0\n",
       "High Price            0\n",
       "Mostly Low          103\n",
       "Mostly High         103\n",
       "Origin                3\n",
       "Origin District    1626\n",
       "Item Size           279\n",
       "Color               616\n",
       "Environment        1757\n",
       "Unit of Sale       1595\n",
       "Quality            1757\n",
       "Condition          1757\n",
       "Appearance         1757\n",
       "Storage            1757\n",
       "Crop               1757\n",
       "Repack                0\n",
       "Trans Mode         1757\n",
       "Unnamed: 24        1757\n",
       "Unnamed: 25        1654\n",
       "dtype: int64"
      ]
     },
     "execution_count": 28,
     "metadata": {},
     "output_type": "execute_result"
    }
   ],
   "execution_count": 28
  },
  {
   "metadata": {
    "ExecuteTime": {
     "end_time": "2025-05-08T16:59:18.335741Z",
     "start_time": "2025-05-08T16:59:18.290548Z"
    }
   },
   "cell_type": "code",
   "source": [
    "columns_to_select = ['Package', 'Low Price', 'High Price', 'Date']\n",
    "pumpkins = pumpkins.loc[:, columns_to_select]\n",
    "pumpkins = pumpkins[pumpkins['Package'].str.contains('bushel', case=True, regex=True)]\n",
    "\n",
    "average_price = (pumpkins['Low Price'] + pumpkins['High Price']) / 2\n",
    "month = pd.DatetimeIndex(pumpkins['Date']).month\n",
    "\n",
    "new_pumpkins = pd.DataFrame({'Month': month, 'Package': pumpkins['Package'], 'Low Price': pumpkins['Low Price'],'High Price': pumpkins['High Price'], 'Average Price': average_price})\n",
    "new_pumpkins.isnull().sum()"
   ],
   "id": "294fd75c94eaa58c",
   "outputs": [
    {
     "data": {
      "text/plain": [
       "Month            0\n",
       "Package          0\n",
       "Low Price        0\n",
       "High Price       0\n",
       "Average Price    0\n",
       "dtype: int64"
      ]
     },
     "execution_count": 29,
     "metadata": {},
     "output_type": "execute_result"
    }
   ],
   "execution_count": 29
  },
  {
   "metadata": {
    "ExecuteTime": {
     "end_time": "2025-05-08T16:59:18.364788Z",
     "start_time": "2025-05-08T16:59:18.341735Z"
    }
   },
   "cell_type": "code",
   "source": [
    "new_pumpkins.loc[new_pumpkins['Package'].str.contains('1 1/9'), 'Average Price'] = average_price / (1 + 1/9)\n",
    "new_pumpkins.loc[new_pumpkins['Package'].str.contains('1/2'), 'Average Price'] = average_price / (1/2)\n",
    "\n",
    "print(new_pumpkins)"
   ],
   "id": "12f07bb94f75f78",
   "outputs": [
    {
     "name": "stdout",
     "output_type": "stream",
     "text": [
      "      Month               Package  Low Price  High Price  Average Price\n",
      "70        9  1 1/9 bushel cartons      15.00        15.0          13.50\n",
      "71        9  1 1/9 bushel cartons      18.00        18.0          16.20\n",
      "72       10  1 1/9 bushel cartons      18.00        18.0          16.20\n",
      "73       10  1 1/9 bushel cartons      17.00        17.0          15.30\n",
      "74       10  1 1/9 bushel cartons      15.00        15.0          13.50\n",
      "...     ...                   ...        ...         ...            ...\n",
      "1738      9    1/2 bushel cartons      15.00        15.0          30.00\n",
      "1739      9    1/2 bushel cartons      13.75        15.0          28.75\n",
      "1740      9    1/2 bushel cartons      10.75        15.0          25.75\n",
      "1741      9    1/2 bushel cartons      12.00        12.0          24.00\n",
      "1742      9    1/2 bushel cartons      12.00        12.0          24.00\n",
      "\n",
      "[415 rows x 5 columns]\n"
     ]
    }
   ],
   "execution_count": 30
  },
  {
   "metadata": {
    "ExecuteTime": {
     "end_time": "2025-05-08T16:59:18.612241Z",
     "start_time": "2025-05-08T16:59:18.368818Z"
    }
   },
   "cell_type": "code",
   "source": [
    "average_price = new_pumpkins['Average Price']\n",
    "month = new_pumpkins['Month']\n",
    "plt.scatter(average_price, month)\n",
    "plt.show()"
   ],
   "id": "191165a65b9e3e64",
   "outputs": [
    {
     "data": {
      "text/plain": [
       "<Figure size 640x480 with 1 Axes>"
      ],
      "image/png": "[encoded data removed]"
     },
     "metadata": {},
     "output_type": "display_data"
    }
   ],
   "execution_count": 31
  },
  {
   "metadata": {
    "ExecuteTime": {
     "end_time": "2025-05-08T17:01:00.738780Z",
     "start_time": "2025-05-08T17:01:00.474748Z"
    }
   },
   "cell_type": "code",
   "source": [
    "new_pumpkins.groupby(['Month'])['Average Price'].mean().plot(kind='bar')\n",
    "plt.ylabel(\"Pumpkin Average Price\")"
   ],
   "id": "848922d2918f4c60",
   "outputs": [
    {
     "data": {
      "text/plain": [
       "Text(0, 0.5, 'Pumpkin Average Price')"
      ]
     },
     "execution_count": 32,
     "metadata": {},
     "output_type": "execute_result"
    },
    {
     "data": {
      "text/plain": [
       "<Figure size 640x480 with 1 Axes>"
      ],
      "image/png": "[encoded data removed]"
     },
     "metadata": {},
     "output_type": "display_data"
    }
   ],
   "execution_count": 32
  },
  {
   "metadata": {},
   "cell_type": "code",
   "outputs": [],
   "execution_count": null,
   "source": "",
   "id": "a2b9cbcdfc524eea"
  }
 ],
 "metadata": {
  "kernelspec": {
   "display_name": "Python 3",
   "language": "python",
   "name": "python3"
  },
  "language_info": {
   "codemirror_mode": {
    "name": "ipython",
    "version": 2
   },
   "file_extension": ".py",
   "mimetype": "text/x-python",
   "name": "python",
   "nbconvert_exporter": "python",
   "pygments_lexer": "ipython2",
   "version": "2.7.6"
  }
 },
 "nbformat": 4,
 "nbformat_minor": 5
}
